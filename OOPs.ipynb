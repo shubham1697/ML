{
 "cells": [
  {
   "cell_type": "code",
   "execution_count": 1,
   "metadata": {},
   "outputs": [
    {
     "name": "stdout",
     "output_type": "stream",
     "text": [
      "<__main__.Person object at 0x7f019c516c50>\n",
      "<class '__main__.Person'>\n"
     ]
    }
   ],
   "source": [
    "class Person():\n",
    "    pass\n",
    "\n",
    "p = Person()\n",
    "print(p)\n",
    "print(type(p))"
   ]
  },
  {
   "cell_type": "code",
   "execution_count": 9,
   "metadata": {},
   "outputs": [
    {
     "name": "stdout",
     "output_type": "stream",
     "text": [
      "Shubham\n",
      "Hello Shubham\n",
      "My name is  Ashish\n",
      "My college is  QST\n"
     ]
    }
   ],
   "source": [
    "class Person():\n",
    "    \n",
    "    def __init__(self, pname, clg):\n",
    "        self.name = pname\n",
    "        self.college = clg\n",
    "    \n",
    "    def sayHi(self, name):\n",
    "        print(\"Hello \"+name)\n",
    "        \n",
    "    def introduce(self):\n",
    "        print(\"My name is \", self.name)\n",
    "        print(\"My college is \", self.college)\n",
    "        \n",
    "p = Person(\"Ashish\",\"QST\")\n",
    "p.sayHi(input())\n",
    "p.introduce()"
   ]
  },
  {
   "cell_type": "code",
   "execution_count": 22,
   "metadata": {},
   "outputs": [
    {
     "name": "stdout",
     "output_type": "stream",
     "text": [
      "Lebra\n",
      "['HighJump', 'Roll Upside Down']\n",
      "Doing Secret Activities\n",
      "BullDog\n",
      "['RollOver', 'Low Jump']\n",
      "Doing Secret Activities\n"
     ]
    }
   ],
   "source": [
    "class Dog():\n",
    "    \n",
    "    color = \"Brown\"\n",
    "    activities = []\n",
    "    \n",
    "    def __init__(self, breed):\n",
    "        self.activities = []\n",
    "        self.breed = breed\n",
    "        \n",
    "    def __secretActivity(self):\n",
    "        print(\"Doing Secret Activities\")\n",
    "        \n",
    "    def addActivity(self, act):\n",
    "        self.activities.append(act)\n",
    "        \n",
    "    def doActivity(self):\n",
    "        print(self.breed)\n",
    "        print(self.activities)\n",
    "        self.__secretActivity()\n",
    "        \n",
    "d = Dog(\"Lebra\")\n",
    "d2 = Dog(\"BullDog\")\n",
    "\n",
    "d.addActivity(\"HighJump\")\n",
    "d.addActivity(\"Roll Upside Down\")\n",
    "\n",
    "d2.addActivity(\"RollOver\")\n",
    "d2.addActivity(\"Low Jump\")\n",
    "\n",
    "#d.__secretActivity()\n",
    "#d2.__secretActivity()\n",
    "\n",
    "\n",
    "d.doActivity()\n",
    "d2.doActivity()"
   ]
  },
  {
   "cell_type": "code",
   "execution_count": null,
   "metadata": {},
   "outputs": [],
   "source": []
  }
 ],
 "metadata": {
  "kernelspec": {
   "display_name": "Python 3",
   "language": "python",
   "name": "python3"
  },
  "language_info": {
   "codemirror_mode": {
    "name": "ipython",
    "version": 3
   },
   "file_extension": ".py",
   "mimetype": "text/x-python",
   "name": "python",
   "nbconvert_exporter": "python",
   "pygments_lexer": "ipython3",
   "version": "3.6.6"
  }
 },
 "nbformat": 4,
 "nbformat_minor": 2
}
